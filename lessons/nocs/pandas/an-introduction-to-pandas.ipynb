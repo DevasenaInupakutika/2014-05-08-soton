{
 "metadata": {
  "name": "an-introduction-to-pandas"
 },
 "nbformat": 3,
 "nbformat_minor": 0,
 "worksheets": [
  {
   "cells": [
    {
     "cell_type": "markdown",
     "metadata": {},
     "source": [
      "# An Introduction to Pandas"
     ]
    },
    {
     "cell_type": "markdown",
     "metadata": {},
     "source": [
      "When dealing with numeric matrices and vectors in Python, [NumPy](http://www.numpy.org/) makes life a lot easier.\n",
      "For more complex data, however, it leaves a lot to be desired.\n",
      "If you're used to working with [data frames in R](http://www.r-tutor.com/r-introduction/data-frame), doing data analysis directly with NumPy feels like a step back.\n",
      "\n",
      "Fortunately, some nice folks have written the [Python Data Analysis Library](http://pandas.pydata.org/) (a.k.a. pandas).\n",
      "Pandas provides an R-like `DataFrame`, produces high quality plots with [matplotlib](http://matplotlib.org/), and integrates nicely with other libraries that expect NumPy arrays.\n",
      "\n",
      "In this tutorial, we'll go through the basics of pandas using a year's worth of weather data from [Weather Underground](http://www.wunderground.com/).\n",
      "Pandas has a **lot** of functionality, so we'll only be able to cover a small fraction of what you can do.\n",
      "Check out the (very readable) [pandas docs](http://pandas.pydata.org/pandas-docs/stable/) if you want to learn more."
     ]
    },
    {
     "cell_type": "markdown",
     "metadata": {},
     "source": [
      "## Getting Started"
     ]
    },
    {
     "cell_type": "markdown",
     "metadata": {},
     "source": [
      "Installing pandas should be an easy process if you use pip:\n",
      "\n",
      "```\n",
      "sudo pip install pandas\n",
      "```\n",
      "\n",
      "For more complex scenarios, please see the [installation instructions](http://pandas.pydata.org/pandas-docs/stable/install.html).\n",
      "\n",
      "OK, let's get started by importing the pandas library."
     ]
    },
    {
     "cell_type": "code",
     "collapsed": true,
     "input": [
      "import pandas"
     ],
     "language": "python",
     "metadata": {},
     "outputs": [],
     "prompt_number": 1
    },
    {
     "cell_type": "markdown",
     "metadata": {},
     "source": [
      "Next, let's read in [our data](data/weather_year.csv).\n",
      "Because it's in a CSV file, we can use pandas' `read_csv` function to pull it directly into a [DataFrame](http://pandas.pydata.org/pandas-docs/stable/dsintro.html#dataframe)."
     ]
    },
    {
     "cell_type": "code",
     "collapsed": true,
     "input": [
      "data = pandas.read_csv(\"data/weather_year.csv\")"
     ],
     "language": "python",
     "metadata": {},
     "outputs": [],
     "prompt_number": 2
    },
    {
     "cell_type": "markdown",
     "metadata": {},
     "source": [
      "We can get a summary of the DataFrame by printing the object."
     ]
    },
    {
     "cell_type": "code",
     "collapsed": false,
     "input": [
      "data"
     ],
     "language": "python",
     "metadata": {},
     "outputs": [
      {
       "output_type": "pyout",
       "prompt_number": 3,
       "text": [
        "<class 'pandas.core.frame.DataFrame'>\n",
        "Int64Index: 366 entries, 0 to 365\n",
        "Data columns:\n",
        "EDT                           366  non-null values\n",
        "Max TemperatureF              366  non-null values\n",
        "Mean TemperatureF             366  non-null values\n",
        "Min TemperatureF              366  non-null values\n",
        "Max Dew PointF                366  non-null values\n",
        "MeanDew PointF                366  non-null values\n",
        "Min DewpointF                 366  non-null values\n",
        "Max Humidity                  366  non-null values\n",
        " Mean Humidity                366  non-null values\n",
        " Min Humidity                 366  non-null values\n",
        " Max Sea Level PressureIn     366  non-null values\n",
        " Mean Sea Level PressureIn    366  non-null values\n",
        " Min Sea Level PressureIn     366  non-null values\n",
        " Max VisibilityMiles          366  non-null values\n",
        " Mean VisibilityMiles         366  non-null values\n",
        " Min VisibilityMiles          366  non-null values\n",
        " Max Wind SpeedMPH            366  non-null values\n",
        " Mean Wind SpeedMPH           366  non-null values\n",
        " Max Gust SpeedMPH            365  non-null values\n",
        "PrecipitationIn               366  non-null values\n",
        " CloudCover                   366  non-null values\n",
        " Events                       162  non-null values\n",
        " WindDirDegrees               366  non-null values\n",
        "dtypes: float64(4), int64(16), object(3)"
       ]
      }
     ],
     "prompt_number": 3
    },
    {
     "cell_type": "markdown",
     "metadata": {},
     "source": [
      "This gives us a lot of information. First, we can see that there are 366 rows (entries) -- a year and a day's worth of weather. Each column is printed along with however many \"non-null\" values are present.\n",
      "We'll talk more about [null (or missing) values in pandas](http://pandas.pydata.org/pandas-docs/stable/missing_data.html) later, but for now we can note that only the \"Max Gust SpeedMPH\" and \"Events\" columns have fewer than 366 non-null values.\n",
      "Lastly, the data types (dtypes) of the columns are printed at the very bottom. We can see that there are 4 `float64`, 16 `int64`, and 3 `object` columns."
     ]
    },
    {
     "cell_type": "code",
     "collapsed": false,
     "input": [
      "len(data)"
     ],
     "language": "python",
     "metadata": {},
     "outputs": [
      {
       "output_type": "pyout",
       "prompt_number": 4,
       "text": [
        "366"
       ]
      }
     ],
     "prompt_number": 4
    },
    {
     "cell_type": "markdown",
     "metadata": {},
     "source": [
      "Using `len` on a DataFrame will give you the number of rows. You can get the column names using the `columns` property."
     ]
    },
    {
     "cell_type": "code",
     "collapsed": false,
     "input": [
      "data.columns"
     ],
     "language": "python",
     "metadata": {},
     "outputs": [
      {
       "output_type": "pyout",
       "prompt_number": 5,
       "text": [
        "Index([EDT, Max TemperatureF, Mean TemperatureF, Min TemperatureF,\n",
        "       Max Dew PointF, MeanDew PointF, Min DewpointF, Max Humidity,\n",
        "        Mean Humidity,  Min Humidity,  Max Sea Level PressureIn,\n",
        "        Mean Sea Level PressureIn,  Min Sea Level PressureIn,\n",
        "        Max VisibilityMiles,  Mean VisibilityMiles,  Min VisibilityMiles,\n",
        "        Max Wind SpeedMPH,  Mean Wind SpeedMPH,  Max Gust SpeedMPH,\n",
        "       PrecipitationIn,  CloudCover,  Events,  WindDirDegrees], dtype=object)"
       ]
      }
     ],
     "prompt_number": 5
    },
    {
     "cell_type": "markdown",
     "metadata": {},
     "source": [
      "Columns can be accessed in two ways. The first is using the DataFrame like a dictionary with string keys:"
     ]
    },
    {
     "cell_type": "code",
     "collapsed": false,
     "input": [
      "data[\"EDT\"]"
     ],
     "language": "python",
     "metadata": {},
     "outputs": [
      {
       "output_type": "pyout",
       "prompt_number": 6,
       "text": [
        "0     2012-3-10\n",
        "1     2012-3-11\n",
        "2     2012-3-12\n",
        "3     2012-3-13\n",
        "4     2012-3-14\n",
        "5     2012-3-15\n",
        "6     2012-3-16\n",
        "7     2012-3-17\n",
        "8     2012-3-18\n",
        "9     2012-3-19\n",
        "10    2012-3-20\n",
        "11    2012-3-21\n",
        "12    2012-3-22\n",
        "13    2012-3-23\n",
        "14    2012-3-24\n",
        "...\n",
        "351    2013-2-24\n",
        "352    2013-2-25\n",
        "353    2013-2-26\n",
        "354    2013-2-27\n",
        "355    2013-2-28\n",
        "356     2013-3-1\n",
        "357     2013-3-2\n",
        "358     2013-3-3\n",
        "359     2013-3-4\n",
        "360     2013-3-5\n",
        "361     2013-3-6\n",
        "362     2013-3-7\n",
        "363     2013-3-8\n",
        "364     2013-3-9\n",
        "365    2013-3-10\n",
        "Name: EDT, Length: 366"
       ]
      }
     ],
     "prompt_number": 6
    },
    {
     "cell_type": "markdown",
     "metadata": {},
     "source": [
      "You can get multiple columns out at the same time by passing in a list of strings."
     ]
    },
    {
     "cell_type": "code",
     "collapsed": false,
     "input": [
      "data[[\"EDT\", \"Mean TemperatureF\"]]"
     ],
     "language": "python",
     "metadata": {},
     "outputs": [
      {
       "output_type": "pyout",
       "prompt_number": 7,
       "text": [
        "<class 'pandas.core.frame.DataFrame'>\n",
        "Int64Index: 366 entries, 0 to 365\n",
        "Data columns:\n",
        "EDT                  366  non-null values\n",
        "Mean TemperatureF    366  non-null values\n",
        "dtypes: int64(1), object(1)"
       ]
      }
     ],
     "prompt_number": 7
    },
    {
     "cell_type": "markdown",
     "metadata": {},
     "source": [
      "The second way to access columns is using the dot syntax. This only works if your column name could also be a Python variable name (i.e., no spaces), and if it doesn't collide with another DataFrame property or function name (e.g., count, sum)."
     ]
    },
    {
     "cell_type": "code",
     "collapsed": false,
     "input": [
      "data.EDT"
     ],
     "language": "python",
     "metadata": {},
     "outputs": [
      {
       "output_type": "pyout",
       "prompt_number": 8,
       "text": [
        "0     2012-3-10\n",
        "1     2012-3-11\n",
        "2     2012-3-12\n",
        "3     2012-3-13\n",
        "4     2012-3-14\n",
        "5     2012-3-15\n",
        "6     2012-3-16\n",
        "7     2012-3-17\n",
        "8     2012-3-18\n",
        "9     2012-3-19\n",
        "10    2012-3-20\n",
        "11    2012-3-21\n",
        "12    2012-3-22\n",
        "13    2012-3-23\n",
        "14    2012-3-24\n",
        "...\n",
        "351    2013-2-24\n",
        "352    2013-2-25\n",
        "353    2013-2-26\n",
        "354    2013-2-27\n",
        "355    2013-2-28\n",
        "356     2013-3-1\n",
        "357     2013-3-2\n",
        "358     2013-3-3\n",
        "359     2013-3-4\n",
        "360     2013-3-5\n",
        "361     2013-3-6\n",
        "362     2013-3-7\n",
        "363     2013-3-8\n",
        "364     2013-3-9\n",
        "365    2013-3-10\n",
        "Name: EDT, Length: 366"
       ]
      }
     ],
     "prompt_number": 8
    },
    {
     "cell_type": "markdown",
     "metadata": {},
     "source": [
      "We'll be mostly using the dot syntax here because you can auto-complete the names in IPython. The first pandas function we'll learn about is `head()`. This gives us the first 5 items in a column (or the first 5 rows in the DataFrame)."
     ]
    },
    {
     "cell_type": "code",
     "collapsed": false,
     "input": [
      "data.EDT.head()"
     ],
     "language": "python",
     "metadata": {},
     "outputs": [
      {
       "output_type": "pyout",
       "prompt_number": 9,
       "text": [
        "0    2012-3-10\n",
        "1    2012-3-11\n",
        "2    2012-3-12\n",
        "3    2012-3-13\n",
        "4    2012-3-14\n",
        "Name: EDT"
       ]
      }
     ],
     "prompt_number": 9
    },
    {
     "cell_type": "markdown",
     "metadata": {},
     "source": [
      "Passing in a number `n` gives us the first `n` items in the column. There is also a corresponding `tail()` method that gives the *last* `n` items or rows."
     ]
    },
    {
     "cell_type": "code",
     "collapsed": false,
     "input": [
      "data.EDT.head(10)"
     ],
     "language": "python",
     "metadata": {},
     "outputs": [
      {
       "output_type": "pyout",
       "prompt_number": 10,
       "text": [
        "0    2012-3-10\n",
        "1    2012-3-11\n",
        "2    2012-3-12\n",
        "3    2012-3-13\n",
        "4    2012-3-14\n",
        "5    2012-3-15\n",
        "6    2012-3-16\n",
        "7    2012-3-17\n",
        "8    2012-3-18\n",
        "9    2012-3-19\n",
        "Name: EDT"
       ]
      }
     ],
     "prompt_number": 10
    },
    {
     "cell_type": "markdown",
     "metadata": {},
     "source": [
      "This also works with the dictionary syntax."
     ]
    },
    {
     "cell_type": "code",
     "collapsed": false,
     "input": [
      "data[\"Mean TemperatureF\"].head()"
     ],
     "language": "python",
     "metadata": {},
     "outputs": [
      {
       "output_type": "pyout",
       "prompt_number": 11,
       "text": [
        "0    40\n",
        "1    49\n",
        "2    62\n",
        "3    63\n",
        "4    62\n",
        "Name: Mean TemperatureF"
       ]
      }
     ],
     "prompt_number": 11
    },
    {
     "cell_type": "markdown",
     "metadata": {},
     "source": [
      "## Exercise 1:\n",
      "\n",
      "How would we get the second to last date (EDT) in the dataset?"
     ]
    },
    {
     "cell_type": "code",
     "collapsed": false,
     "input": [
      "# Combine head() and tail()\n",
      "last_two_dates = data.EDT.tail(2)\n",
      "second_to_last_date = last_two_dates.head(1)\n",
      "print second_to_last_date"
     ],
     "language": "python",
     "metadata": {},
     "outputs": [
      {
       "output_type": "stream",
       "stream": "stdout",
       "text": [
        "364    2013-3-9\n",
        "Name: EDT\n"
       ]
      }
     ],
     "prompt_number": 16
    },
    {
     "cell_type": "markdown",
     "metadata": {},
     "source": [
      "If the data in the column is numeric, you can use `describe()` to get some stats on it."
     ]
    },
    {
     "cell_type": "code",
     "collapsed": false,
     "input": [
      "data[\"Mean TemperatureF\"].describe()"
     ],
     "language": "python",
     "metadata": {},
     "outputs": [
      {
       "output_type": "pyout",
       "prompt_number": 17,
       "text": [
        "count    366.000000\n",
        "mean      55.683060\n",
        "std       18.436506\n",
        "min       11.000000\n",
        "25%       41.000000\n",
        "50%       59.000000\n",
        "75%       70.750000\n",
        "max       89.000000"
       ]
      }
     ],
     "prompt_number": 17
    },
    {
     "cell_type": "markdown",
     "metadata": {},
     "source": [
      "## Fun with Columns"
     ]
    },
    {
     "cell_type": "markdown",
     "metadata": {},
     "source": [
      "The column names in `data` are a little unweildy, so we're going to rename them. You can rename individual columns with the `rename()` method of the DataFrame."
     ]
    },
    {
     "cell_type": "code",
     "collapsed": false,
     "input": [
      "data = data.rename(columns={ \"Max TemperatureF\": \"max_temp\", \"Min TemperatureF\": \"min_temp\" })\n",
      "data.columns"
     ],
     "language": "python",
     "metadata": {},
     "outputs": [
      {
       "output_type": "pyout",
       "prompt_number": 18,
       "text": [
        "Index([EDT, max_temp, Mean TemperatureF, min_temp, Max Dew PointF,\n",
        "       MeanDew PointF, Min DewpointF, Max Humidity,  Mean Humidity,\n",
        "        Min Humidity,  Max Sea Level PressureIn,\n",
        "        Mean Sea Level PressureIn,  Min Sea Level PressureIn,\n",
        "        Max VisibilityMiles,  Mean VisibilityMiles,  Min VisibilityMiles,\n",
        "        Max Wind SpeedMPH,  Mean Wind SpeedMPH,  Max Gust SpeedMPH,\n",
        "       PrecipitationIn,  CloudCover,  Events,  WindDirDegrees], dtype=object)"
       ]
      }
     ],
     "prompt_number": 18
    },
    {
     "cell_type": "markdown",
     "metadata": {},
     "source": [
      "You can see that the max and mean temperature columns are now called `max_temp` and `mean_temp` respectively.\n",
      "\n",
      "Notice that we assigned the results of `data.rename(...)` to `data`. Most DataFrame methods do not modify the DataFrame directly, and instead return a copy or a filtered view.\n",
      "\n",
      "Let's change all of our column names at the same time. This is as easy as assigning a new list of column names to the `columns` property of the DataFrame."
     ]
    },
    {
     "cell_type": "code",
     "collapsed": true,
     "input": [
      "data.columns = [\"date\", \"max_temp\", \"mean_temp\", \"min_temp\", \"max_dew\",\n",
      "                \"mean_dew\", \"min_dew\", \"max_humidity\", \"mean_humidity\",\n",
      "                \"min_humidity\", \"max_pressure\", \"mean_pressure\",\n",
      "                \"min_pressure\", \"max_visibilty\", \"mean_visibility\",\n",
      "                \"min_visibility\", \"max_wind\", \"mean_wind\", \"min_wind\",\n",
      "                \"precipitation\", \"cloud_cover\", \"events\", \"wind_dir\"]"
     ],
     "language": "python",
     "metadata": {},
     "outputs": [],
     "prompt_number": 19
    },
    {
     "cell_type": "markdown",
     "metadata": {},
     "source": [
      "These should be in the same order as the original columns. Let's take another look at our DataFrame summary."
     ]
    },
    {
     "cell_type": "code",
     "collapsed": false,
     "input": [
      "data"
     ],
     "language": "python",
     "metadata": {},
     "outputs": [
      {
       "output_type": "pyout",
       "prompt_number": 20,
       "text": [
        "<class 'pandas.core.frame.DataFrame'>\n",
        "Int64Index: 366 entries, 0 to 365\n",
        "Data columns:\n",
        "date               366  non-null values\n",
        "max_temp           366  non-null values\n",
        "mean_temp          366  non-null values\n",
        "min_temp           366  non-null values\n",
        "max_dew            366  non-null values\n",
        "mean_dew           366  non-null values\n",
        "min_dew            366  non-null values\n",
        "max_humidity       366  non-null values\n",
        "mean_humidity      366  non-null values\n",
        "min_humidity       366  non-null values\n",
        "max_pressure       366  non-null values\n",
        "mean_pressure      366  non-null values\n",
        "min_pressure       366  non-null values\n",
        "max_visibilty      366  non-null values\n",
        "mean_visibility    366  non-null values\n",
        "min_visibility     366  non-null values\n",
        "max_wind           366  non-null values\n",
        "mean_wind          366  non-null values\n",
        "min_wind           365  non-null values\n",
        "precipitation      366  non-null values\n",
        "cloud_cover        366  non-null values\n",
        "events             162  non-null values\n",
        "wind_dir           366  non-null values\n",
        "dtypes: float64(4), int64(16), object(3)"
       ]
      }
     ],
     "prompt_number": 20
    },
    {
     "cell_type": "markdown",
     "metadata": {},
     "source": [
      "Now our columns can all be accessed using the dot syntax!"
     ]
    },
    {
     "cell_type": "code",
     "collapsed": false,
     "input": [
      "data.mean_temp.head()"
     ],
     "language": "python",
     "metadata": {},
     "outputs": [
      {
       "output_type": "pyout",
       "prompt_number": 21,
       "text": [
        "0    40\n",
        "1    49\n",
        "2    62\n",
        "3    63\n",
        "4    62\n",
        "Name: mean_temp"
       ]
      }
     ],
     "prompt_number": 21
    },
    {
     "cell_type": "markdown",
     "metadata": {},
     "source": [
      "There are lots useful methods on columns, such as `std()` to get the standard deviation. Most of pandas' methods will happily ignore missing values like `NaN`."
     ]
    },
    {
     "cell_type": "code",
     "collapsed": false,
     "input": [
      "data.mean_temp.std()"
     ],
     "language": "python",
     "metadata": {},
     "outputs": [
      {
       "output_type": "pyout",
       "prompt_number": 22,
       "text": [
        "18.436505996251075"
       ]
      }
     ],
     "prompt_number": 22
    },
    {
     "cell_type": "markdown",
     "metadata": {},
     "source": [
      "Some methods, like `plot()` and `hist()` produce plots using [matplotlib](http://matplotlib.org/). We'll go over plotting in more detail later."
     ]
    },
    {
     "cell_type": "code",
     "collapsed": false,
     "input": [
      "data.mean_temp.hist()"
     ],
     "language": "python",
     "metadata": {},
     "outputs": [
      {
       "output_type": "pyout",
       "prompt_number": 23,
       "text": [
        "<matplotlib.axes.AxesSubplot at 0x3f8a950>"
       ]
      },
      {
       "output_type": "display_data",
       "png": "[encoded data removed]"
      }
     ],
     "prompt_number": 23
    },
    {
     "cell_type": "markdown",
     "metadata": {},
     "source": [
      "By the way, many of the column-specific methods also work on the entire DataFrame. Instead of a single number, you'll get a result for each column."
     ]
    },
    {
     "cell_type": "code",
     "collapsed": false,
     "input": [
      "data.std()"
     ],
     "language": "python",
     "metadata": {},
     "outputs": [
      {
       "output_type": "pyout",
       "prompt_number": 24,
       "text": [
        "max_temp           20.361247\n",
        "mean_temp          18.436506\n",
        "min_temp           17.301141\n",
        "max_dew            16.397178\n",
        "mean_dew           16.829996\n",
        "min_dew            17.479449\n",
        "max_humidity        9.108438\n",
        "mean_humidity       9.945591\n",
        "min_humidity       15.360261\n",
        "max_pressure        0.172189\n",
        "mean_pressure       0.174112\n",
        "min_pressure        0.182476\n",
        "max_visibilty       0.073821\n",
        "mean_visibility     1.875406\n",
        "min_visibility      3.792219\n",
        "max_wind            5.564329\n",
        "mean_wind           3.200940\n",
        "min_wind            8.131092\n",
        "cloud_cover         2.707261\n",
        "wind_dir           94.045080"
       ]
      }
     ],
     "prompt_number": 24
    },
    {
     "cell_type": "markdown",
     "metadata": {},
     "source": [
      "If you only want to compute something over couple of the columns, use the dictionary syntax:"
     ]
    },
    {
     "cell_type": "code",
     "collapsed": false,
     "input": [
      "data[[\"max_temp\", \"max_pressure\", \"max_wind\"]].std()"
     ],
     "language": "python",
     "metadata": {},
     "outputs": [
      {
       "output_type": "pyout",
       "prompt_number": 25,
       "text": [
        "max_temp        20.361247\n",
        "max_pressure     0.172189\n",
        "max_wind         5.564329"
       ]
      }
     ],
     "prompt_number": 25
    },
    {
     "cell_type": "markdown",
     "metadata": {},
     "source": [
      "## Exercise 2:\n",
      "\n",
      "What is the range of temperatures in the dataset?\n",
      "\n",
      "*Hint: columns have `max()` and `min()` methods.*"
     ]
    },
    {
     "cell_type": "code",
     "collapsed": false,
     "input": [
      "hottest_temp = data.max_temp.max()  # Highest of the highs\n",
      "coldest_temp = data.min_temp.min()  # Lowest of the lows\n",
      "print \"Temperature range:\", hottest_temp - coldest_temp, \"degrees F\""
     ],
     "language": "python",
     "metadata": {},
     "outputs": [
      {
       "output_type": "stream",
       "stream": "stdout",
       "text": [
        "Temperature range: 105 degrees F\n"
       ]
      }
     ],
     "prompt_number": 27
    },
    {
     "cell_type": "markdown",
     "metadata": {},
     "source": [
      "## Bulk Operations with `apply()`"
     ]
    },
    {
     "cell_type": "markdown",
     "metadata": {},
     "source": [
      "Built-on methods like `sum()` and `std()` work on entire columns. We can run our own functions across all values in a column (or row) using `apply()`.\n",
      "\n",
      "To give you an idea of how this works, let's consider the \"date\" column in our DataFrame (formally \"EDT\")."
     ]
    },
    {
     "cell_type": "code",
     "collapsed": false,
     "input": [
      "data.date.head()"
     ],
     "language": "python",
     "metadata": {},
     "outputs": [
      {
       "output_type": "pyout",
       "prompt_number": 28,
       "text": [
        "0    2012-3-10\n",
        "1    2012-3-11\n",
        "2    2012-3-12\n",
        "3    2012-3-13\n",
        "4    2012-3-14\n",
        "Name: date"
       ]
      }
     ],
     "prompt_number": 28
    },
    {
     "cell_type": "markdown",
     "metadata": {},
     "source": [
      "We can use the `values` property of the column to get a list of values for the column. Inspecting the first value reveals that these are strings with a particular format."
     ]
    },
    {
     "cell_type": "code",
     "collapsed": false,
     "input": [
      "first_date = data.date.values[0]\n",
      "print first_date, \"is a\", type(first_date)"
     ],
     "language": "python",
     "metadata": {},
     "outputs": [
      {
       "output_type": "stream",
       "stream": "stdout",
       "text": [
        "2012-3-10 is a <type 'str'>\n"
       ]
      }
     ],
     "prompt_number": 30
    },
    {
     "cell_type": "markdown",
     "metadata": {},
     "source": [
      "The `strptime` function from the `datetime` module will make quick work of this date string. There are many [more shortcuts available](http://docs.python.org/2/library/datetime.html#strftime-and-strptime-behavior) for `strptime`."
     ]
    },
    {
     "cell_type": "code",
     "collapsed": false,
     "input": [
      "# Import the datetime class from the datetime module\n",
      "from datetime import datetime\n",
      "\n",
      "# Convert date string to datetime object\n",
      "datetime.strptime(first_date, \"%Y-%m-%d\")"
     ],
     "language": "python",
     "metadata": {},
     "outputs": [
      {
       "output_type": "pyout",
       "prompt_number": 31,
       "text": [
        "datetime.datetime(2012, 3, 10, 0, 0)"
       ]
      }
     ],
     "prompt_number": 31
    },
    {
     "cell_type": "markdown",
     "metadata": {},
     "source": [
      "Using the `apply()` method, which takes a function (**without** the parentheses), we can apply `strptime` to each value in the column. We'll overwrite the string date values with their Python `datetime` equivalents."
     ]
    },
    {
     "cell_type": "code",
     "collapsed": false,
     "input": [
      "# Define a function to convert strings to dates\n",
      "def string_to_date(date_string):\n",
      "    return datetime.strptime(date_string, \"%Y-%m-%d\")\n",
      "\n",
      "# Run the function on every date string and overwrite the column\n",
      "data.date = data.date.apply(string_to_date)\n",
      "data.date.head()"
     ],
     "language": "python",
     "metadata": {},
     "outputs": [
      {
       "output_type": "pyout",
       "prompt_number": 32,
       "text": [
        "0    2012-03-10 00:00:00\n",
        "1    2012-03-11 00:00:00\n",
        "2    2012-03-12 00:00:00\n",
        "3    2012-03-13 00:00:00\n",
        "4    2012-03-14 00:00:00\n",
        "Name: date"
       ]
      }
     ],
     "prompt_number": 32
    },
    {
     "cell_type": "markdown",
     "metadata": {},
     "source": [
      "Let's go one step futher. Each row in our DateFrame represents the weather from a single day. Each row in a DataFrame is associated with an *index*, which is a label that uniquely identifies a row.\n",
      "\n",
      "Our row indices up to now have been auto-generated by pandas, and are simply integers from 0 to 365. If we use dates instead of integers for our index, we will get some extra benefits from pandas when plotting later on. Overwriting the index is as easy as assigning to the `index` property of the DataFrame."
     ]
    },
    {
     "cell_type": "code",
     "collapsed": false,
     "input": [
      "data.index = data.date\n",
      "data.index"
     ],
     "language": "python",
     "metadata": {},
     "outputs": [
      {
       "output_type": "pyout",
       "prompt_number": 34,
       "text": [
        "<class 'pandas.tseries.index.DatetimeIndex'>\n",
        "[2012-03-10 00:00:00, ..., 2013-03-10 00:00:00]\n",
        "Length: 366, Freq: None, Timezone: None"
       ]
      }
     ],
     "prompt_number": 34
    },
    {
     "cell_type": "markdown",
     "metadata": {},
     "source": [
      "Now we can quickly look up a row by its date with the `ix[]` property."
     ]
    },
    {
     "cell_type": "code",
     "collapsed": false,
     "input": [
      "data.ix[datetime(2012, 8, 19)]"
     ],
     "language": "python",
     "metadata": {},
     "outputs": []
    },
    {
     "cell_type": "markdown",
     "metadata": {},
     "source": [
      "We can even slice out a while month using a list-like syntax:"
     ]
    },
    {
     "cell_type": "code",
     "collapsed": false,
     "input": [
      "data[datetime(2012, 4, 1):datetime(2012, 4, 30)]"
     ],
     "language": "python",
     "metadata": {},
     "outputs": [
      {
       "output_type": "pyout",
       "prompt_number": 35,
       "text": [
        "<class 'pandas.core.frame.DataFrame'>\n",
        "DatetimeIndex: 30 entries, 2012-04-01 00:00:00 to 2012-04-30 00:00:00\n",
        "Data columns:\n",
        "date               30  non-null values\n",
        "max_temp           30  non-null values\n",
        "mean_temp          30  non-null values\n",
        "min_temp           30  non-null values\n",
        "max_dew            30  non-null values\n",
        "mean_dew           30  non-null values\n",
        "min_dew            30  non-null values\n",
        "max_humidity       30  non-null values\n",
        "mean_humidity      30  non-null values\n",
        "min_humidity       30  non-null values\n",
        "max_pressure       30  non-null values\n",
        "mean_pressure      30  non-null values\n",
        "min_pressure       30  non-null values\n",
        "max_visibilty      30  non-null values\n",
        "mean_visibility    30  non-null values\n",
        "min_visibility     30  non-null values\n",
        "max_wind           30  non-null values\n",
        "mean_wind          30  non-null values\n",
        "min_wind           30  non-null values\n",
        "precipitation      30  non-null values\n",
        "cloud_cover        30  non-null values\n",
        "events             14  non-null values\n",
        "wind_dir           30  non-null values\n",
        "dtypes: float64(4), int64(16), object(3)"
       ]
      }
     ],
     "prompt_number": 35
    },
    {
     "cell_type": "markdown",
     "metadata": {},
     "source": [
      "With all of the dates in the index now, we no longer need the \"date\" column. Let's drop it."
     ]
    },
    {
     "cell_type": "code",
     "collapsed": false,
     "input": [
      "data = data.drop(\"date\", axis=1)\n",
      "data.columns"
     ],
     "language": "python",
     "metadata": {},
     "outputs": [
      {
       "output_type": "pyout",
       "prompt_number": 36,
       "text": [
        "Index([max_temp, mean_temp, min_temp, max_dew, mean_dew, min_dew,\n",
        "       max_humidity, mean_humidity, min_humidity, max_pressure,\n",
        "       mean_pressure, min_pressure, max_visibilty, mean_visibility,\n",
        "       min_visibility, max_wind, mean_wind, min_wind, precipitation,\n",
        "       cloud_cover, events, wind_dir], dtype=object)"
       ]
      }
     ],
     "prompt_number": 36
    },
    {
     "cell_type": "markdown",
     "metadata": {},
     "source": [
      "Note that we need to pass in `axis=1` in order to drop a column. For more details, check out the documentation for `drop`."
     ]
    },
    {
     "cell_type": "markdown",
     "metadata": {},
     "source": [
      "## Exercise 3:\n",
      "\n",
      "Print out the cloud cover for each day in May.\n",
      "\n",
      "*Hint: you can make datetime objects with the `datetime(year, month, day)` function*"
     ]
    },
    {
     "cell_type": "code",
     "collapsed": false,
     "input": [
      "datetime(2012, 5, 1)  # May 1st of 2012"
     ],
     "language": "python",
     "metadata": {},
     "outputs": []
    },
    {
     "cell_type": "code",
     "collapsed": false,
     "input": [
      "data[datetime(2012, 5, 1):datetime(2012, 5, 31)].cloud_cover"
     ],
     "language": "python",
     "metadata": {},
     "outputs": [
      {
       "output_type": "pyout",
       "prompt_number": 37,
       "text": [
        "date\n",
        "2012-05-01    6\n",
        "2012-05-02    1\n",
        "2012-05-03    0\n",
        "2012-05-04    6\n",
        "2012-05-05    3\n",
        "2012-05-06    0\n",
        "2012-05-07    5\n",
        "2012-05-08    4\n",
        "2012-05-09    3\n",
        "2012-05-10    1\n",
        "2012-05-11    0\n",
        "2012-05-12    1\n",
        "2012-05-13    4\n",
        "2012-05-14    4\n",
        "2012-05-15    0\n",
        "2012-05-16    0\n",
        "2012-05-17    0\n",
        "2012-05-18    0\n",
        "2012-05-19    0\n",
        "2012-05-20    1\n",
        "2012-05-21    4\n",
        "2012-05-22    2\n",
        "2012-05-23    0\n",
        "2012-05-24    0\n",
        "2012-05-25    2\n",
        "2012-05-26    0\n",
        "2012-05-27    0\n",
        "2012-05-28    0\n",
        "2012-05-29    4\n",
        "2012-05-30    1\n",
        "2012-05-31    4\n",
        "Name: cloud_cover"
       ]
      }
     ],
     "prompt_number": 37
    },
    {
     "cell_type": "markdown",
     "metadata": {},
     "source": [
      "## Handing Missing Values"
     ]
    },
    {
     "cell_type": "markdown",
     "metadata": {},
     "source": [
      "Pandas considers values like `NaN` and `None` to represent missing data. The `pandas.isnull` function can be used to tell whether or not a value is missing.\n",
      "\n",
      "Let's use `apply()` across all of the columns in our DataFrame to figure out which values are missing."
     ]
    },
    {
     "cell_type": "code",
     "collapsed": false,
     "input": [
      "empty = data.apply(lambda col: pandas.isnull(col))\n",
      "empty"
     ],
     "language": "python",
     "metadata": {},
     "outputs": [
      {
       "output_type": "pyout",
       "prompt_number": 38,
       "text": [
        "<class 'pandas.core.frame.DataFrame'>\n",
        "DatetimeIndex: 366 entries, 2012-03-10 00:00:00 to 2013-03-10 00:00:00\n",
        "Freq: D\n",
        "Data columns:\n",
        "max_temp           366  non-null values\n",
        "mean_temp          366  non-null values\n",
        "min_temp           366  non-null values\n",
        "max_dew            366  non-null values\n",
        "mean_dew           366  non-null values\n",
        "min_dew            366  non-null values\n",
        "max_humidity       366  non-null values\n",
        "mean_humidity      366  non-null values\n",
        "min_humidity       366  non-null values\n",
        "max_pressure       366  non-null values\n",
        "mean_pressure      366  non-null values\n",
        "min_pressure       366  non-null values\n",
        "max_visibilty      366  non-null values\n",
        "mean_visibility    366  non-null values\n",
        "min_visibility     366  non-null values\n",
        "max_wind           366  non-null values\n",
        "mean_wind          366  non-null values\n",
        "min_wind           366  non-null values\n",
        "precipitation      366  non-null values\n",
        "cloud_cover        366  non-null values\n",
        "events             366  non-null values\n",
        "wind_dir           366  non-null values\n",
        "dtypes: bool(22)"
       ]
      }
     ],
     "prompt_number": 38
    },
    {
     "cell_type": "markdown",
     "metadata": {},
     "source": [
      "We got back a dataframe (`empty`) with boolean values for all 22 columns and 366 rows. Inspecting the first 10 values of the \"events\", column we can see that there are some missing values because a `True` was returned from `pandas.isnull`."
     ]
    },
    {
     "cell_type": "code",
     "collapsed": false,
     "input": [
      "empty.events.head(10)"
     ],
     "language": "python",
     "metadata": {},
     "outputs": [
      {
       "output_type": "pyout",
       "prompt_number": 39,
       "text": [
        "date\n",
        "2012-03-10     True\n",
        "2012-03-11    False\n",
        "2012-03-12    False\n",
        "2012-03-13     True\n",
        "2012-03-14     True\n",
        "2012-03-15    False\n",
        "2012-03-16     True\n",
        "2012-03-17    False\n",
        "2012-03-18    False\n",
        "2012-03-19     True\n",
        "Freq: D, Name: events"
       ]
      }
     ],
     "prompt_number": 39
    },
    {
     "cell_type": "markdown",
     "metadata": {},
     "source": [
      "Looking at the corresponding rows in the original DataFrame reveals that pandas has filled in `NaN` for empty values in the \"events\" column."
     ]
    },
    {
     "cell_type": "code",
     "collapsed": false,
     "input": [
      "data.events.head(10)"
     ],
     "language": "python",
     "metadata": {},
     "outputs": [
      {
       "output_type": "pyout",
       "prompt_number": 40,
       "text": [
        "date\n",
        "2012-03-10                  NaN\n",
        "2012-03-11                 Rain\n",
        "2012-03-12                 Rain\n",
        "2012-03-13                  NaN\n",
        "2012-03-14                  NaN\n",
        "2012-03-15    Rain-Thunderstorm\n",
        "2012-03-16                  NaN\n",
        "2012-03-17     Fog-Thunderstorm\n",
        "2012-03-18                 Rain\n",
        "2012-03-19                  NaN\n",
        "Freq: D, Name: events"
       ]
      }
     ],
     "prompt_number": 40
    },
    {
     "cell_type": "markdown",
     "metadata": {},
     "source": [
      "This isn't exactly what we want. One option is to drop all rows in the DataFrame with missing \"events\" values."
     ]
    },
    {
     "cell_type": "code",
     "collapsed": false,
     "input": [
      "data.dropna(subset=[\"events\"])"
     ],
     "language": "python",
     "metadata": {},
     "outputs": [
      {
       "output_type": "pyout",
       "prompt_number": 41,
       "text": [
        "<class 'pandas.core.frame.DataFrame'>\n",
        "DatetimeIndex: 162 entries, 2012-03-11 00:00:00 to 2013-03-06 00:00:00\n",
        "Data columns:\n",
        "max_temp           162  non-null values\n",
        "mean_temp          162  non-null values\n",
        "min_temp           162  non-null values\n",
        "max_dew            162  non-null values\n",
        "mean_dew           162  non-null values\n",
        "min_dew            162  non-null values\n",
        "max_humidity       162  non-null values\n",
        "mean_humidity      162  non-null values\n",
        "min_humidity       162  non-null values\n",
        "max_pressure       162  non-null values\n",
        "mean_pressure      162  non-null values\n",
        "min_pressure       162  non-null values\n",
        "max_visibilty      162  non-null values\n",
        "mean_visibility    162  non-null values\n",
        "min_visibility     162  non-null values\n",
        "max_wind           162  non-null values\n",
        "mean_wind          162  non-null values\n",
        "min_wind           162  non-null values\n",
        "precipitation      162  non-null values\n",
        "cloud_cover        162  non-null values\n",
        "events             162  non-null values\n",
        "wind_dir           162  non-null values\n",
        "dtypes: float64(4), int64(16), object(2)"
       ]
      }
     ],
     "prompt_number": 41
    },
    {
     "cell_type": "markdown",
     "metadata": {},
     "source": [
      "The DataFrame we get back has only 162 rows, so we can infer that there were 366 - 162 = 204 missing values in the \"events\" column. Note that this didn't affect `data`; we're just looking at a copy.\n",
      "\n",
      "Instead of dropping the rows with missing values, let's fill them with empty strings (you'll see why in a moment). This is easily done with the `fillna()` function. We'll go ahead and overwrite the \"events\" column with empty string missing values instead of `NaN`."
     ]
    },
    {
     "cell_type": "code",
     "collapsed": false,
     "input": [
      "data.events = data.events.fillna(\"\")\n",
      "data.events.head(10)"
     ],
     "language": "python",
     "metadata": {},
     "outputs": [
      {
       "output_type": "pyout",
       "prompt_number": 42,
       "text": [
        "date\n",
        "2012-03-10                     \n",
        "2012-03-11                 Rain\n",
        "2012-03-12                 Rain\n",
        "2012-03-13                     \n",
        "2012-03-14                     \n",
        "2012-03-15    Rain-Thunderstorm\n",
        "2012-03-16                     \n",
        "2012-03-17     Fog-Thunderstorm\n",
        "2012-03-18                 Rain\n",
        "2012-03-19                     \n",
        "Freq: D, Name: events"
       ]
      }
     ],
     "prompt_number": 42
    },
    {
     "cell_type": "markdown",
     "metadata": {},
     "source": [
      "## Accessing Individual Rows"
     ]
    },
    {
     "cell_type": "markdown",
     "metadata": {},
     "source": [
      "Sometimes you need to access individual rows in your DataFrame. The `irow()` function lets you grab the ith row from a DataFrame (starting from 0)."
     ]
    },
    {
     "cell_type": "code",
     "collapsed": false,
     "input": [
      "data.irow(0)"
     ],
     "language": "python",
     "metadata": {},
     "outputs": [
      {
       "output_type": "pyout",
       "prompt_number": 43,
       "text": [
        "max_temp              56\n",
        "mean_temp             40\n",
        "min_temp              24\n",
        "max_dew               24\n",
        "mean_dew              20\n",
        "min_dew               16\n",
        "max_humidity          74\n",
        "mean_humidity         50\n",
        "min_humidity          26\n",
        "max_pressure       30.53\n",
        "mean_pressure      30.45\n",
        "min_pressure       30.34\n",
        "max_visibilty         10\n",
        "mean_visibility       10\n",
        "min_visibility        10\n",
        "max_wind              13\n",
        "mean_wind              6\n",
        "min_wind              17\n",
        "precipitation       0.00\n",
        "cloud_cover            0\n",
        "events                  \n",
        "wind_dir             138\n",
        "Name: 2012-03-10 00:00:00"
       ]
      }
     ],
     "prompt_number": 43
    },
    {
     "cell_type": "markdown",
     "metadata": {},
     "source": [
      "Of course, another option is to use the index."
     ]
    },
    {
     "cell_type": "code",
     "collapsed": false,
     "input": [
      "data.ix[datetime(2013, 1, 1)]"
     ],
     "language": "python",
     "metadata": {},
     "outputs": [
      {
       "output_type": "pyout",
       "prompt_number": 44,
       "text": [
        "max_temp              32\n",
        "mean_temp             26\n",
        "min_temp              20\n",
        "max_dew               31\n",
        "mean_dew              25\n",
        "min_dew               16\n",
        "max_humidity          92\n",
        "mean_humidity         83\n",
        "min_humidity          74\n",
        "max_pressure        30.2\n",
        "mean_pressure      30.11\n",
        "min_pressure       30.04\n",
        "max_visibilty          9\n",
        "mean_visibility        5\n",
        "min_visibility         2\n",
        "max_wind              14\n",
        "mean_wind              5\n",
        "min_wind              15\n",
        "precipitation          T\n",
        "cloud_cover            8\n",
        "events                  \n",
        "wind_dir             353\n",
        "Name: 2013-01-01 00:00:00"
       ]
      }
     ],
     "prompt_number": 44
    },
    {
     "cell_type": "markdown",
     "metadata": {},
     "source": [
      "You can iterate over each row in the DataFrame with `iterrows()`. Note that this function returns **both** the index and the row. Also, you must access columns in the row you get back from `iterrows()` with the dictionary syntax."
     ]
    },
    {
     "cell_type": "code",
     "collapsed": false,
     "input": [
      "num_rain = 0\n",
      "for idx, row in data.iterrows():\n",
      "    if \"Rain\" in row[\"events\"]:\n",
      "        num_rain += 1\n",
      "\n",
      "print \"Days with rain:\", num_rain"
     ],
     "language": "python",
     "metadata": {},
     "outputs": [
      {
       "output_type": "stream",
       "stream": "stdout",
       "text": [
        "Days with rain: 121\n"
       ]
      }
     ],
     "prompt_number": 46
    },
    {
     "cell_type": "markdown",
     "metadata": {},
     "source": [
      "## Exercise 4:\n",
      "\n",
      "Was there any November rain?\n",
      "\n",
      "*Hint*: check out the `strftime()` function on `datetime` objects and the [documentation](http://docs.python.org/2/library/datetime.html#strftime-and-strptime-behavior)"
     ]
    },
    {
     "cell_type": "code",
     "collapsed": false,
     "input": [
      "d = datetime(2012, 1, 1)\n",
      "d.strftime(\"%B\")"
     ],
     "language": "python",
     "metadata": {},
     "outputs": []
    },
    {
     "cell_type": "code",
     "collapsed": false,
     "input": [
      "november_rain = False\n",
      "for date_idx, row in data.iterrows():\n",
      "    if date_idx.strftime(\"%B\") == \"November\" and \"Rain\" in row[\"events\"]:\n",
      "        november_rain = True\n",
      "        \n",
      "if november_rain:\n",
      "    print \"There was rain in November\"\n",
      "else:\n",
      "    print \"There was *not* rain in November\""
     ],
     "language": "python",
     "metadata": {},
     "outputs": [
      {
       "output_type": "stream",
       "stream": "stdout",
       "text": [
        "There was rain in November\n"
       ]
      }
     ],
     "prompt_number": 47
    },
    {
     "cell_type": "markdown",
     "metadata": {},
     "source": [
      "## Filtering"
     ]
    },
    {
     "cell_type": "markdown",
     "metadata": {},
     "source": [
      "Most of your time using pandas will likely be devoted to selecting rows of interest from a DataFrame. In addition to strings, the dictionary syntax accepts things like this:"
     ]
    },
    {
     "cell_type": "code",
     "collapsed": false,
     "input": [
      "freezing_days = data[data.max_temp <= 32]\n",
      "freezing_days"
     ],
     "language": "python",
     "metadata": {},
     "outputs": [
      {
       "output_type": "pyout",
       "prompt_number": 48,
       "text": [
        "<class 'pandas.core.frame.DataFrame'>\n",
        "DatetimeIndex: 21 entries, 2012-11-24 00:00:00 to 2013-03-06 00:00:00\n",
        "Data columns:\n",
        "max_temp           21  non-null values\n",
        "mean_temp          21  non-null values\n",
        "min_temp           21  non-null values\n",
        "max_dew            21  non-null values\n",
        "mean_dew           21  non-null values\n",
        "min_dew            21  non-null values\n",
        "max_humidity       21  non-null values\n",
        "mean_humidity      21  non-null values\n",
        "min_humidity       21  non-null values\n",
        "max_pressure       21  non-null values\n",
        "mean_pressure      21  non-null values\n",
        "min_pressure       21  non-null values\n",
        "max_visibilty      21  non-null values\n",
        "mean_visibility    21  non-null values\n",
        "min_visibility     21  non-null values\n",
        "max_wind           21  non-null values\n",
        "mean_wind          21  non-null values\n",
        "min_wind           21  non-null values\n",
        "precipitation      21  non-null values\n",
        "cloud_cover        21  non-null values\n",
        "events             21  non-null values\n",
        "wind_dir           21  non-null values\n",
        "dtypes: float64(4), int64(16), object(2)"
       ]
      }
     ],
     "prompt_number": 48
    },
    {
     "cell_type": "markdown",
     "metadata": {},
     "source": [
      "We get back another DataFrame with fewer rows (21 in this case). This DataFrame can be filtered down even more."
     ]
    },
    {
     "cell_type": "code",
     "collapsed": false,
     "input": [
      "freezing_days[freezing_days.min_temp >= 20]"
     ],
     "language": "python",
     "metadata": {},
     "outputs": [
      {
       "output_type": "pyout",
       "prompt_number": 49,
       "text": [
        "<class 'pandas.core.frame.DataFrame'>\n",
        "DatetimeIndex: 7 entries, 2012-11-24 00:00:00 to 2013-03-06 00:00:00\n",
        "Data columns:\n",
        "max_temp           7  non-null values\n",
        "mean_temp          7  non-null values\n",
        "min_temp           7  non-null values\n",
        "max_dew            7  non-null values\n",
        "mean_dew           7  non-null values\n",
        "min_dew            7  non-null values\n",
        "max_humidity       7  non-null values\n",
        "mean_humidity      7  non-null values\n",
        "min_humidity       7  non-null values\n",
        "max_pressure       7  non-null values\n",
        "mean_pressure      7  non-null values\n",
        "min_pressure       7  non-null values\n",
        "max_visibilty      7  non-null values\n",
        "mean_visibility    7  non-null values\n",
        "min_visibility     7  non-null values\n",
        "max_wind           7  non-null values\n",
        "mean_wind          7  non-null values\n",
        "min_wind           7  non-null values\n",
        "precipitation      7  non-null values\n",
        "cloud_cover        7  non-null values\n",
        "events             7  non-null values\n",
        "wind_dir           7  non-null values\n",
        "dtypes: float64(4), int64(16), object(2)"
       ]
      }
     ],
     "prompt_number": 49
    },
    {
     "cell_type": "markdown",
     "metadata": {},
     "source": [
      "Or, using boolean operations, we could apply both filters to the original DataFrame at the same time."
     ]
    },
    {
     "cell_type": "code",
     "collapsed": false,
     "input": [
      "data[(data.max_temp <= 32) & (data.min_temp >= 20)]"
     ],
     "language": "python",
     "metadata": {},
     "outputs": [
      {
       "output_type": "pyout",
       "prompt_number": 50,
       "text": [
        "<class 'pandas.core.frame.DataFrame'>\n",
        "DatetimeIndex: 7 entries, 2012-11-24 00:00:00 to 2013-03-06 00:00:00\n",
        "Data columns:\n",
        "max_temp           7  non-null values\n",
        "mean_temp          7  non-null values\n",
        "min_temp           7  non-null values\n",
        "max_dew            7  non-null values\n",
        "mean_dew           7  non-null values\n",
        "min_dew            7  non-null values\n",
        "max_humidity       7  non-null values\n",
        "mean_humidity      7  non-null values\n",
        "min_humidity       7  non-null values\n",
        "max_pressure       7  non-null values\n",
        "mean_pressure      7  non-null values\n",
        "min_pressure       7  non-null values\n",
        "max_visibilty      7  non-null values\n",
        "mean_visibility    7  non-null values\n",
        "min_visibility     7  non-null values\n",
        "max_wind           7  non-null values\n",
        "mean_wind          7  non-null values\n",
        "min_wind           7  non-null values\n",
        "precipitation      7  non-null values\n",
        "cloud_cover        7  non-null values\n",
        "events             7  non-null values\n",
        "wind_dir           7  non-null values\n",
        "dtypes: float64(4), int64(16), object(2)"
       ]
      }
     ],
     "prompt_number": 50
    },
    {
     "cell_type": "markdown",
     "metadata": {},
     "source": [
      "It's important to understand what's really going on underneath with filtering. Let's look at what kind of object we actually get back when creating a filter."
     ]
    },
    {
     "cell_type": "code",
     "collapsed": false,
     "input": [
      "temp_max = data.max_temp <= 32\n",
      "type(temp_max)"
     ],
     "language": "python",
     "metadata": {},
     "outputs": [
      {
       "output_type": "pyout",
       "prompt_number": 51,
       "text": [
        "pandas.core.series.TimeSeries"
       ]
      }
     ],
     "prompt_number": 51
    },
    {
     "cell_type": "markdown",
     "metadata": {},
     "source": [
      "This is a pandas `Series` object, which is the one-dimensional equivalent of a DataFrame. Because our DataFrame uses datetime objects for the index, we have a specialized `TimeSeries` object.\n",
      "\n",
      "What's inside the filter?"
     ]
    },
    {
     "cell_type": "code",
     "collapsed": false,
     "input": [
      "temp_max"
     ],
     "language": "python",
     "metadata": {},
     "outputs": [
      {
       "output_type": "pyout",
       "prompt_number": 52,
       "text": [
        "date\n",
        "2012-03-10    False\n",
        "2012-03-11    False\n",
        "2012-03-12    False\n",
        "2012-03-13    False\n",
        "2012-03-14    False\n",
        "2012-03-15    False\n",
        "2012-03-16    False\n",
        "2012-03-17    False\n",
        "2012-03-18    False\n",
        "2012-03-19    False\n",
        "2012-03-20    False\n",
        "2012-03-21    False\n",
        "2012-03-22    False\n",
        "2012-03-23    False\n",
        "2012-03-24    False\n",
        "...\n",
        "2013-02-24    False\n",
        "2013-02-25    False\n",
        "2013-02-26    False\n",
        "2013-02-27    False\n",
        "2013-02-28    False\n",
        "2013-03-01    False\n",
        "2013-03-02     True\n",
        "2013-03-03    False\n",
        "2013-03-04    False\n",
        "2013-03-05    False\n",
        "2013-03-06     True\n",
        "2013-03-07    False\n",
        "2013-03-08    False\n",
        "2013-03-09    False\n",
        "2013-03-10    False\n",
        "Freq: D, Name: max_temp, Length: 366"
       ]
      }
     ],
     "prompt_number": 52
    },
    {
     "cell_type": "markdown",
     "metadata": {},
     "source": [
      "Our filter is nothing more than a `Series` with a *boolean value for every item in the index*. When we \"run the filter\" as so:"
     ]
    },
    {
     "cell_type": "code",
     "collapsed": false,
     "input": [
      "data[temp_max]"
     ],
     "language": "python",
     "metadata": {},
     "outputs": [
      {
       "output_type": "pyout",
       "prompt_number": 53,
       "text": [
        "<class 'pandas.core.frame.DataFrame'>\n",
        "DatetimeIndex: 21 entries, 2012-11-24 00:00:00 to 2013-03-06 00:00:00\n",
        "Data columns:\n",
        "max_temp           21  non-null values\n",
        "mean_temp          21  non-null values\n",
        "min_temp           21  non-null values\n",
        "max_dew            21  non-null values\n",
        "mean_dew           21  non-null values\n",
        "min_dew            21  non-null values\n",
        "max_humidity       21  non-null values\n",
        "mean_humidity      21  non-null values\n",
        "min_humidity       21  non-null values\n",
        "max_pressure       21  non-null values\n",
        "mean_pressure      21  non-null values\n",
        "min_pressure       21  non-null values\n",
        "max_visibilty      21  non-null values\n",
        "mean_visibility    21  non-null values\n",
        "min_visibility     21  non-null values\n",
        "max_wind           21  non-null values\n",
        "mean_wind          21  non-null values\n",
        "min_wind           21  non-null values\n",
        "precipitation      21  non-null values\n",
        "cloud_cover        21  non-null values\n",
        "events             21  non-null values\n",
        "wind_dir           21  non-null values\n",
        "dtypes: float64(4), int64(16), object(2)"
       ]
      }
     ],
     "prompt_number": 53
    },
    {
     "cell_type": "markdown",
     "metadata": {},
     "source": [
      "pandas lines up the rows of the DataFrame and the filter using the index, and then keeps the rows with a `True` filter value. That's it.\n",
      "\n",
      "Let's create another filter."
     ]
    },
    {
     "cell_type": "code",
     "collapsed": false,
     "input": [
      "temp_min = data.min_temp >= 20\n",
      "temp_min"
     ],
     "language": "python",
     "metadata": {},
     "outputs": [
      {
       "output_type": "pyout",
       "prompt_number": 54,
       "text": [
        "date\n",
        "2012-03-10    True\n",
        "2012-03-11    True\n",
        "2012-03-12    True\n",
        "2012-03-13    True\n",
        "2012-03-14    True\n",
        "2012-03-15    True\n",
        "2012-03-16    True\n",
        "2012-03-17    True\n",
        "2012-03-18    True\n",
        "2012-03-19    True\n",
        "2012-03-20    True\n",
        "2012-03-21    True\n",
        "2012-03-22    True\n",
        "2012-03-23    True\n",
        "2012-03-24    True\n",
        "...\n",
        "2013-02-24     True\n",
        "2013-02-25     True\n",
        "2013-02-26     True\n",
        "2013-02-27     True\n",
        "2013-02-28     True\n",
        "2013-03-01     True\n",
        "2013-03-02     True\n",
        "2013-03-03    False\n",
        "2013-03-04    False\n",
        "2013-03-05     True\n",
        "2013-03-06     True\n",
        "2013-03-07     True\n",
        "2013-03-08     True\n",
        "2013-03-09     True\n",
        "2013-03-10     True\n",
        "Freq: D, Name: min_temp, Length: 366"
       ]
      }
     ],
     "prompt_number": 54
    },
    {
     "cell_type": "markdown",
     "metadata": {},
     "source": [
      "Now we can see what the boolean operations are doing. Something like `&` (**not** `and`)..."
     ]
    },
    {
     "cell_type": "code",
     "collapsed": false,
     "input": [
      "temp_min & temp_max"
     ],
     "language": "python",
     "metadata": {},
     "outputs": [
      {
       "output_type": "pyout",
       "prompt_number": 55,
       "text": [
        "date\n",
        "2012-03-10    False\n",
        "2012-03-11    False\n",
        "2012-03-12    False\n",
        "2012-03-13    False\n",
        "2012-03-14    False\n",
        "2012-03-15    False\n",
        "2012-03-16    False\n",
        "2012-03-17    False\n",
        "2012-03-18    False\n",
        "2012-03-19    False\n",
        "2012-03-20    False\n",
        "2012-03-21    False\n",
        "2012-03-22    False\n",
        "2012-03-23    False\n",
        "2012-03-24    False\n",
        "...\n",
        "2013-02-24    False\n",
        "2013-02-25    False\n",
        "2013-02-26    False\n",
        "2013-02-27    False\n",
        "2013-02-28    False\n",
        "2013-03-01    False\n",
        "2013-03-02     True\n",
        "2013-03-03    False\n",
        "2013-03-04    False\n",
        "2013-03-05    False\n",
        "2013-03-06     True\n",
        "2013-03-07    False\n",
        "2013-03-08    False\n",
        "2013-03-09    False\n",
        "2013-03-10    False\n",
        "Freq: D, Length: 366"
       ]
      }
     ],
     "prompt_number": 55
    },
    {
     "cell_type": "markdown",
     "metadata": {},
     "source": [
      "...is just lining up the two filters using the index, performing a boolean AND operation, and returning the result as another `Series`.\n",
      "\n",
      "We can do other boolean operations too, like OR:"
     ]
    },
    {
     "cell_type": "code",
     "collapsed": false,
     "input": [
      "temp_min | temp_max"
     ],
     "language": "python",
     "metadata": {},
     "outputs": [
      {
       "output_type": "pyout",
       "prompt_number": 56,
       "text": [
        "date\n",
        "2012-03-10    True\n",
        "2012-03-11    True\n",
        "2012-03-12    True\n",
        "2012-03-13    True\n",
        "2012-03-14    True\n",
        "2012-03-15    True\n",
        "2012-03-16    True\n",
        "2012-03-17    True\n",
        "2012-03-18    True\n",
        "2012-03-19    True\n",
        "2012-03-20    True\n",
        "2012-03-21    True\n",
        "2012-03-22    True\n",
        "2012-03-23    True\n",
        "2012-03-24    True\n",
        "...\n",
        "2013-02-24     True\n",
        "2013-02-25     True\n",
        "2013-02-26     True\n",
        "2013-02-27     True\n",
        "2013-02-28     True\n",
        "2013-03-01     True\n",
        "2013-03-02     True\n",
        "2013-03-03    False\n",
        "2013-03-04    False\n",
        "2013-03-05     True\n",
        "2013-03-06     True\n",
        "2013-03-07     True\n",
        "2013-03-08     True\n",
        "2013-03-09     True\n",
        "2013-03-10     True\n",
        "Freq: D, Length: 366"
       ]
      }
     ],
     "prompt_number": 56
    },
    {
     "cell_type": "markdown",
     "metadata": {},
     "source": [
      "Because the result is just another `Series`, we have all of the regular pandas functions at our disposal. The `any()` function returns `True` if any value in the `Series` is `True`."
     ]
    },
    {
     "cell_type": "code",
     "collapsed": false,
     "input": [
      "temp_both = temp_min & temp_max\n",
      "temp_both.any()"
     ],
     "language": "python",
     "metadata": {},
     "outputs": [
      {
       "output_type": "pyout",
       "prompt_number": 57,
       "text": [
        "True"
       ]
      }
     ],
     "prompt_number": 57
    },
    {
     "cell_type": "markdown",
     "metadata": {},
     "source": [
      "Sometimes filters aren't so intuitive. This (sadly) doesn't work:"
     ]
    },
    {
     "cell_type": "code",
     "collapsed": true,
     "input": [
      "try:\n",
      "    data[\"Rain\" in data.events]\n",
      "except:\n",
      "    pass # \"KeyError: no item named False\""
     ],
     "language": "python",
     "metadata": {},
     "outputs": [],
     "prompt_number": 58
    },
    {
     "cell_type": "markdown",
     "metadata": {},
     "source": [
      "We can wrap it up in an `apply()` call fairly easily, though:"
     ]
    },
    {
     "cell_type": "code",
     "collapsed": false,
     "input": [
      "def has_rain(event_string):\n",
      "    return \"Rain\" in event_string\n",
      "\n",
      "data[data.events.apply(has_rain)]"
     ],
     "language": "python",
     "metadata": {},
     "outputs": [
      {
       "output_type": "pyout",
       "prompt_number": 59,
       "text": [
        "<class 'pandas.core.frame.DataFrame'>\n",
        "DatetimeIndex: 121 entries, 2012-03-11 00:00:00 to 2013-03-05 00:00:00\n",
        "Data columns:\n",
        "max_temp           121  non-null values\n",
        "mean_temp          121  non-null values\n",
        "min_temp           121  non-null values\n",
        "max_dew            121  non-null values\n",
        "mean_dew           121  non-null values\n",
        "min_dew            121  non-null values\n",
        "max_humidity       121  non-null values\n",
        "mean_humidity      121  non-null values\n",
        "min_humidity       121  non-null values\n",
        "max_pressure       121  non-null values\n",
        "mean_pressure      121  non-null values\n",
        "min_pressure       121  non-null values\n",
        "max_visibilty      121  non-null values\n",
        "mean_visibility    121  non-null values\n",
        "min_visibility     121  non-null values\n",
        "max_wind           121  non-null values\n",
        "mean_wind          121  non-null values\n",
        "min_wind           121  non-null values\n",
        "precipitation      121  non-null values\n",
        "cloud_cover        121  non-null values\n",
        "events             121  non-null values\n",
        "wind_dir           121  non-null values\n",
        "dtypes: float64(4), int64(16), object(2)"
       ]
      }
     ],
     "prompt_number": 59
    },
    {
     "cell_type": "markdown",
     "metadata": {},
     "source": [
      "## Exercise 5:\n",
      "\n",
      "Before starting the exercise, let's convert the precipitation column in the dataset to floating point numbers. It's currently full of strings because of the \"T\" value, which stands for \"trace amount of precipitation.\""
     ]
    },
    {
     "cell_type": "code",
     "collapsed": false,
     "input": [
      "data.precipitation.head()"
     ],
     "language": "python",
     "metadata": {},
     "outputs": [
      {
       "output_type": "pyout",
       "prompt_number": 60,
       "text": [
        "date\n",
        "2012-03-10    0.00\n",
        "2012-03-11       T\n",
        "2012-03-12    0.03\n",
        "2012-03-13    0.00\n",
        "2012-03-14    0.00\n",
        "Freq: D, Name: precipitation"
       ]
      }
     ],
     "prompt_number": 60
    },
    {
     "cell_type": "markdown",
     "metadata": {},
     "source": [
      "We'll replace \"T\" with a very small number, and convert the rest of the strings to floats:"
     ]
    },
    {
     "cell_type": "code",
     "collapsed": false,
     "input": [
      "# Convert precipitation to floating point number\n",
      "# \"T\" means \"trace of precipitation\"\n",
      "def precipitation_to_float(precip_str):\n",
      "    if precip_str == \"T\":\n",
      "        return 1e-10  # Very small value\n",
      "    return float(precip_str)\n",
      "\n",
      "data.precipitation = data.precipitation.apply(precipitation_to_float)\n",
      "data.precipitation.head()"
     ],
     "language": "python",
     "metadata": {},
     "outputs": [
      {
       "output_type": "pyout",
       "prompt_number": 61,
       "text": [
        "date\n",
        "2012-03-10    0.000000e+00\n",
        "2012-03-11    1.000000e-10\n",
        "2012-03-12    3.000000e-02\n",
        "2012-03-13    0.000000e+00\n",
        "2012-03-14    0.000000e+00\n",
        "Freq: D, Name: precipitation"
       ]
      }
     ],
     "prompt_number": 61
    },
    {
     "cell_type": "markdown",
     "metadata": {},
     "source": [
      "Now on to the exercise.\n",
      "\n",
      "What was the coldest it ever got when there was no cloud cover and no precipitation?"
     ]
    },
    {
     "cell_type": "code",
     "collapsed": false,
     "input": [
      "no_cloud_cover = (data.cloud_cover == 0)\n",
      "no_precipitation = (data.precipitation == 0)\n",
      "coldest_temp = data[no_cloud_cover & no_precipitation].min_temp.min()\n",
      "print \"Coldest without cloud cover and precipitation was\", coldest_temp, \"degree(s) F\""
     ],
     "language": "python",
     "metadata": {},
     "outputs": [
      {
       "output_type": "stream",
       "stream": "stdout",
       "text": [
        "Coldest without cloud cover and precipitation was 1 degree(s) F\n"
       ]
      }
     ],
     "prompt_number": 63
    },
    {
     "cell_type": "markdown",
     "metadata": {},
     "source": [
      "## Grouping"
     ]
    },
    {
     "cell_type": "markdown",
     "metadata": {},
     "source": [
      "Besides `apply()`, another great DataFrame function is `groupby()`.\n",
      "It will group a DataFrame by one or more columns, and let you iterate through each group.\n",
      "\n",
      "As an example, let's group our DataFrame by the \"cloud_cover\" column (a value ranging from 0 to 8)."
     ]
    },
    {
     "cell_type": "code",
     "collapsed": false,
     "input": [
      "cover_temps = {}\n",
      "for cover, cover_data in data.groupby(\"cloud_cover\"):\n",
      "    cover_temps[cover] = cover_data.mean_temp.mean()  # The mean mean temp!\n",
      "cover_temps"
     ],
     "language": "python",
     "metadata": {},
     "outputs": [
      {
       "output_type": "pyout",
       "prompt_number": 64,
       "text": [
        "{0: 59.730769230769234,\n",
        " 1: 61.415094339622641,\n",
        " 2: 59.727272727272727,\n",
        " 3: 58.0625,\n",
        " 4: 51.5,\n",
        " 5: 50.827586206896555,\n",
        " 6: 57.727272727272727,\n",
        " 7: 46.5,\n",
        " 8: 40.909090909090907}"
       ]
      }
     ],
     "prompt_number": 64
    },
    {
     "cell_type": "markdown",
     "metadata": {},
     "source": [
      "When you iterate through the result of `groupby()`, you will get a tuple.\n",
      "The first item is the column value, and the second item is a filtered DataFrame (where the column equals the first tuple value).\n",
      "\n",
      "You can group by more than one column as well.\n",
      "In this case, the first tuple item returned by `groupby()` will itself be a tuple with the value of each column."
     ]
    },
    {
     "cell_type": "code",
     "collapsed": false,
     "input": [
      "for (cover, events), group_data in data.groupby([\"cloud_cover\", \"events\"]):\n",
      "    print \"Cover: {0}, Events: {1}, Count: {2}\".format(cover, events, len(group_data))"
     ],
     "language": "python",
     "metadata": {},
     "outputs": [
      {
       "output_type": "stream",
       "stream": "stdout",
       "text": [
        "Cover: 0, Events: , Count: 99\n",
        "Cover: 0, Events: Fog, Count: 2\n",
        "Cover: 0, Events: Rain, Count: 2\n",
        "Cover: 0, Events: Thunderstorm, Count: 1\n",
        "Cover: 1, Events: , Count: 35\n",
        "Cover: 1, Events: Fog, Count: 5\n",
        "Cover: 1, Events: Fog-Rain, Count: 1\n",
        "Cover: 1, Events: Rain, Count: 4\n",
        "Cover: 1, Events: Rain-Thunderstorm, Count: 2\n",
        "Cover: 1, Events: Thunderstorm, Count: 6\n",
        "Cover: 2, Events: , Count: 20\n",
        "Cover: 2, Events: Fog, Count: 1\n",
        "Cover: 2, Events: Rain, Count: 5\n",
        "Cover: 2, Events: Rain-Thunderstorm, Count: 4\n",
        "Cover: 2, Events: Snow, Count: 1\n",
        "Cover: 2, Events: Thunderstorm, Count: 2\n",
        "Cover: 3, Events: , Count: 12\n",
        "Cover: 3, Events: Fog, Count: 2\n",
        "Cover: 3, Events: Fog-Rain-Thunderstorm, Count: 3\n",
        "Cover: 3, Events: Fog-Thunderstorm, Count: 1\n",
        "Cover: 3, Events: Rain, Count: 9\n",
        "Cover: 3, Events: Rain-Thunderstorm, Count: 4\n",
        "Cover: 3, Events: Snow, Count: 1\n",
        "Cover: 4, Events: , Count: 16\n",
        "Cover: 4, Events: Fog, Count: 3\n",
        "Cover: 4, Events: Fog-Rain, Count: 2\n",
        "Cover: 4, Events: Fog-Rain-Thunderstorm, Count: 2\n",
        "Cover: 4, Events: Rain, Count: 10\n",
        "Cover: 4, Events: Rain-Thunderstorm, Count: 6\n",
        "Cover: 4, Events: Snow, Count: 1\n",
        "Cover: 5, Events: , Count: 9\n",
        "Cover: 5, Events: Fog-Rain, Count: 1\n",
        "Cover: 5, Events: Fog-Rain-Snow, Count: 1\n",
        "Cover: 5, Events: Rain, Count: 13\n",
        "Cover: 5, Events: Rain-Thunderstorm, Count: 3\n",
        "Cover: 5, Events: Snow, Count: 2\n",
        "Cover: 6, Events: , Count: 3\n",
        "Cover: 6, Events: Fog-Rain, Count: 2\n",
        "Cover: 6, Events: Fog-Rain-Snow, Count: 1\n",
        "Cover: 6, Events: Fog-Rain-Thunderstorm, Count: 2\n",
        "Cover: 6, Events: Rain, Count: 9\n",
        "Cover: 6, Events: Rain-Thunderstorm, Count: 4\n",
        "Cover: 6, Events: Snow, Count: 1\n",
        "Cover: 7, Events: , Count: 5\n",
        "Cover: 7, Events: Fog-Rain, Count: 1\n",
        "Cover: 7, Events: Fog-Rain-Thunderstorm, Count: 1\n",
        "Cover: 7, Events: Fog-Snow, Count: 3\n",
        "Cover: 7, Events: Rain, Count: 6\n",
        "Cover: 7, Events: Rain-Thunderstorm, Count: 3\n",
        "Cover: 7, Events: Snow, Count: 1\n",
        "Cover: 8, Events: , Count: 5\n",
        "Cover: 8, Events: Fog-Rain, Count: 4\n",
        "Cover: 8, Events: Fog-Rain-Snow, Count: 1\n",
        "Cover: 8, Events: Fog-Rain-Snow-Thunderstorm, Count: 1\n",
        "Cover: 8, Events: Fog-Snow, Count: 2\n",
        "Cover: 8, Events: Rain, Count: 11\n",
        "Cover: 8, Events: Rain-Snow, Count: 3\n",
        "Cover: 8, Events: Snow, Count: 6\n"
       ]
      }
     ],
     "prompt_number": 65
    },
    {
     "cell_type": "markdown",
     "metadata": {},
     "source": [
      "## Creating New Columns"
     ]
    },
    {
     "cell_type": "markdown",
     "metadata": {},
     "source": [
      "Weather events in our DataFrame are stored in strings like \"Rain-Thunderstorm\" to represent that it rained and there was a thunderstorm that day. Let's split them out into boolean \"rain\", \"thunderstorm\", etc. columns.\n",
      "\n",
      "First, let's discover the different kinds of weather events we have with `unique()`."
     ]
    },
    {
     "cell_type": "code",
     "collapsed": false,
     "input": [
      "data.events.unique()"
     ],
     "language": "python",
     "metadata": {},
     "outputs": [
      {
       "output_type": "pyout",
       "prompt_number": 66,
       "text": [
        "array([, Rain, Rain-Thunderstorm, Fog-Thunderstorm, Fog-Rain, Thunderstorm,\n",
        "       Fog-Rain-Thunderstorm, Fog, Fog-Rain-Snow,\n",
        "       Fog-Rain-Snow-Thunderstorm, Fog-Snow, Snow, Rain-Snow], dtype=object)"
       ]
      }
     ],
     "prompt_number": 66
    },
    {
     "cell_type": "markdown",
     "metadata": {},
     "source": [
      "Looks like we have \"Rain\", \"Thunderstorm\", \"Fog\", and \"Snow\" events. Creating a new column for each of these event kinds is a piece of cake with the dictionary syntax."
     ]
    },
    {
     "cell_type": "code",
     "collapsed": false,
     "input": [
      "for event_kind in [\"Rain\", \"Thunderstorm\", \"Fog\", \"Snow\"]:\n",
      "    col_name = event_kind.lower()  # Turn \"Rain\" into \"rain\", etc.\n",
      "    data[col_name] = data.events.apply(lambda e: event_kind in e)\n",
      "data"
     ],
     "language": "python",
     "metadata": {},
     "outputs": [
      {
       "output_type": "pyout",
       "prompt_number": 67,
       "text": [
        "<class 'pandas.core.frame.DataFrame'>\n",
        "DatetimeIndex: 366 entries, 2012-03-10 00:00:00 to 2013-03-10 00:00:00\n",
        "Freq: D\n",
        "Data columns:\n",
        "max_temp           366  non-null values\n",
        "mean_temp          366  non-null values\n",
        "min_temp           366  non-null values\n",
        "max_dew            366  non-null values\n",
        "mean_dew           366  non-null values\n",
        "min_dew            366  non-null values\n",
        "max_humidity       366  non-null values\n",
        "mean_humidity      366  non-null values\n",
        "min_humidity       366  non-null values\n",
        "max_pressure       366  non-null values\n",
        "mean_pressure      366  non-null values\n",
        "min_pressure       366  non-null values\n",
        "max_visibilty      366  non-null values\n",
        "mean_visibility    366  non-null values\n",
        "min_visibility     366  non-null values\n",
        "max_wind           366  non-null values\n",
        "mean_wind          366  non-null values\n",
        "min_wind           365  non-null values\n",
        "precipitation      366  non-null values\n",
        "cloud_cover        366  non-null values\n",
        "events             366  non-null values\n",
        "wind_dir           366  non-null values\n",
        "rain               366  non-null values\n",
        "thunderstorm       366  non-null values\n",
        "fog                366  non-null values\n",
        "snow               366  non-null values\n",
        "dtypes: bool(4), float64(5), int64(16), object(1)"
       ]
      }
     ],
     "prompt_number": 67
    },
    {
     "cell_type": "markdown",
     "metadata": {},
     "source": [
      "Our new columns show up at the bottom. We can access them now with the dot syntax."
     ]
    },
    {
     "cell_type": "code",
     "collapsed": false,
     "input": [
      "data.rain"
     ],
     "language": "python",
     "metadata": {},
     "outputs": [
      {
       "output_type": "pyout",
       "prompt_number": 68,
       "text": [
        "date\n",
        "2012-03-10    False\n",
        "2012-03-11     True\n",
        "2012-03-12     True\n",
        "2012-03-13    False\n",
        "2012-03-14    False\n",
        "2012-03-15     True\n",
        "2012-03-16    False\n",
        "2012-03-17    False\n",
        "2012-03-18     True\n",
        "2012-03-19    False\n",
        "2012-03-20    False\n",
        "2012-03-21    False\n",
        "2012-03-22     True\n",
        "2012-03-23     True\n",
        "2012-03-24     True\n",
        "...\n",
        "2013-02-24    False\n",
        "2013-02-25    False\n",
        "2013-02-26     True\n",
        "2013-02-27    False\n",
        "2013-02-28     True\n",
        "2013-03-01    False\n",
        "2013-03-02    False\n",
        "2013-03-03    False\n",
        "2013-03-04     True\n",
        "2013-03-05     True\n",
        "2013-03-06    False\n",
        "2013-03-07    False\n",
        "2013-03-08    False\n",
        "2013-03-09    False\n",
        "2013-03-10    False\n",
        "Freq: D, Name: rain, Length: 366"
       ]
      }
     ],
     "prompt_number": 68
    },
    {
     "cell_type": "markdown",
     "metadata": {},
     "source": [
      "We can also do cool things like find out how many `True` values there are (i.e., how many days had rain)..."
     ]
    },
    {
     "cell_type": "code",
     "collapsed": false,
     "input": [
      "data.rain.sum()"
     ],
     "language": "python",
     "metadata": {},
     "outputs": [
      {
       "output_type": "pyout",
       "prompt_number": 69,
       "text": [
        "121"
       ]
      }
     ],
     "prompt_number": 69
    },
    {
     "cell_type": "markdown",
     "metadata": {},
     "source": [
      "...and get all the days that had both rain and snow!"
     ]
    },
    {
     "cell_type": "code",
     "collapsed": false,
     "input": [
      "data[data.rain & data.snow]"
     ],
     "language": "python",
     "metadata": {},
     "outputs": [
      {
       "output_type": "pyout",
       "prompt_number": 70,
       "text": [
        "<class 'pandas.core.frame.DataFrame'>\n",
        "DatetimeIndex: 7 entries, 2012-11-12 00:00:00 to 2013-03-05 00:00:00\n",
        "Data columns:\n",
        "max_temp           7  non-null values\n",
        "mean_temp          7  non-null values\n",
        "min_temp           7  non-null values\n",
        "max_dew            7  non-null values\n",
        "mean_dew           7  non-null values\n",
        "min_dew            7  non-null values\n",
        "max_humidity       7  non-null values\n",
        "mean_humidity      7  non-null values\n",
        "min_humidity       7  non-null values\n",
        "max_pressure       7  non-null values\n",
        "mean_pressure      7  non-null values\n",
        "min_pressure       7  non-null values\n",
        "max_visibilty      7  non-null values\n",
        "mean_visibility    7  non-null values\n",
        "min_visibility     7  non-null values\n",
        "max_wind           7  non-null values\n",
        "mean_wind          7  non-null values\n",
        "min_wind           7  non-null values\n",
        "precipitation      7  non-null values\n",
        "cloud_cover        7  non-null values\n",
        "events             7  non-null values\n",
        "wind_dir           7  non-null values\n",
        "rain               7  non-null values\n",
        "thunderstorm       7  non-null values\n",
        "fog                7  non-null values\n",
        "snow               7  non-null values\n",
        "dtypes: bool(4), float64(5), int64(16), object(1)"
       ]
      }
     ],
     "prompt_number": 70
    },
    {
     "cell_type": "markdown",
     "metadata": {},
     "source": [
      "## Exercise 6:\n",
      "\n",
      "Was the mean temperature more variable on days with rain and snow than on days with just rain or just snow?\n",
      "\n",
      "*Hint: don't forget the `std()` function*"
     ]
    },
    {
     "cell_type": "code",
     "collapsed": false,
     "input": [
      "days_with_rain = data[data.rain == True]\n",
      "days_with_snow = data[data.snow == True]\n",
      "\n",
      "rain_std = days_with_rain.mean_temp.std()\n",
      "snow_std = days_with_snow.mean_temp.std()\n",
      "\n",
      "if rain_std > snow_std:\n",
      "    print \"Rainy days were more variable\"\n",
      "elif snow_std > rain_std:\n",
      "    print \"Snowy days were more variable\"\n",
      "else:\n",
      "    print \"They were the same\""
     ],
     "language": "python",
     "metadata": {},
     "outputs": [
      {
       "output_type": "stream",
       "stream": "stdout",
       "text": [
        "Rainy days were more variable\n"
       ]
      }
     ],
     "prompt_number": 71
    },
    {
     "cell_type": "markdown",
     "metadata": {},
     "source": [
      "## Plotting"
     ]
    },
    {
     "cell_type": "markdown",
     "metadata": {},
     "source": [
      "We've already seen how the `hist()` function makes generating histograms a snap. Let's look at the `plot()` function now."
     ]
    },
    {
     "cell_type": "code",
     "collapsed": false,
     "input": [
      "data.max_temp.plot()"
     ],
     "language": "python",
     "metadata": {},
     "outputs": [
      {
       "output_type": "pyout",
       "prompt_number": 72,
       "text": [
        "<matplotlib.axes.AxesSubplot at 0x46f2610>"
       ]
      },
      {
       "output_type": "display_data",
       "png": "[encoded data removed]"
      }
     ],
     "prompt_number": 72
    },
    {
     "cell_type": "markdown",
     "metadata": {},
     "source": [
      "That one line of code did a **lot** for us. First, it created a nice looking line plot using the maximum temperature column from our DataFrame. Second, because we used `datetime` objects in our index, pandas labeled the x-axis appropriately.\n",
      "\n",
      "Pandas is smart too. If we're only looking at a couple of days, the x-axis looks different:"
     ]
    },
    {
     "cell_type": "code",
     "collapsed": false,
     "input": [
      "data.max_temp.tail().plot()"
     ],
     "language": "python",
     "metadata": {},
     "outputs": [
      {
       "output_type": "pyout",
       "prompt_number": 73,
       "text": [
        "<matplotlib.axes.AxesSubplot at 0x4c03710>"
       ]
      },
      {
       "output_type": "display_data",
       "png": "[encoded data removed]"
      }
     ],
     "prompt_number": 73
    },
    {
     "cell_type": "markdown",
     "metadata": {},
     "source": [
      "Prefer a bar plot? Pandas has got your covered."
     ]
    },
    {
     "cell_type": "code",
     "collapsed": false,
     "input": [
      "data.max_temp.tail().plot(kind=\"bar\", rot=10)"
     ],
     "language": "python",
     "metadata": {},
     "outputs": [
      {
       "output_type": "pyout",
       "prompt_number": 74,
       "text": [
        "<matplotlib.axes.AxesSubplot at 0x4e803d0>"
       ]
      },
      {
       "output_type": "display_data",
       "png": "[encoded data removed]"
      }
     ],
     "prompt_number": 74
    },
    {
     "cell_type": "markdown",
     "metadata": {},
     "source": [
      "The `plot()` function returns a matplotlib `AxesSubPlot` object. You can pass this object into subsequent calls to `plot()` in order to compose plots.\n",
      "\n",
      "Although `plot()` takes a variety of parameters to customize your plot, users familiar with matplotlib will feel right at home with the `AxesSubPlot` object."
     ]
    },
    {
     "cell_type": "code",
     "collapsed": false,
     "input": [
      "ax = data.max_temp.plot(title=\"Min and Max Temperatures\")\n",
      "data.min_temp.plot(style=\"red\", ax=ax)\n",
      "ax.set_ylabel(\"Temperature (F)\")"
     ],
     "language": "python",
     "metadata": {},
     "outputs": [
      {
       "output_type": "pyout",
       "prompt_number": 75,
       "text": [
        "<matplotlib.text.Text at 0x50f0f90>"
       ]
      },
      {
       "output_type": "display_data",
       "png": "[encoded data removed]"
      }
     ],
     "prompt_number": 75
    },
    {
     "cell_type": "markdown",
     "metadata": {},
     "source": [
      "## Exercise 7:\n",
      "\n",
      "Add the mean temperature to the previous plot using a green line. Also, add a legend with the `legend()` method of `ax`."
     ]
    },
    {
     "cell_type": "code",
     "collapsed": false,
     "input": [
      "ax = data.max_temp.plot(title=\"Min and Max Temperatures\")\n",
      "data.min_temp.plot(style=\"red\", ax=ax)\n",
      "data.mean_temp.plot(style=\"green\", ax=ax)\n",
      "ax.set_ylabel(\"Temperature (F)\")"
     ],
     "language": "python",
     "metadata": {},
     "outputs": [
      {
       "output_type": "pyout",
       "prompt_number": 76,
       "text": [
        "<matplotlib.text.Text at 0x532ec90>"
       ]
      },
      {
       "output_type": "display_data",
       "png": "[encoded data removed]"
      }
     ],
     "prompt_number": 76
    },
    {
     "cell_type": "markdown",
     "metadata": {},
     "source": [
      "## Getting Data Out"
     ]
    },
    {
     "cell_type": "markdown",
     "metadata": {},
     "source": [
      "Writing data out in pandas is as easy as getting data in. To save our DataFrame out to a new csv file, we can just do this:"
     ]
    },
    {
     "cell_type": "code",
     "collapsed": true,
     "input": [
      "data.to_csv(\"data/weather-mod.csv\")"
     ],
     "language": "python",
     "metadata": {},
     "outputs": [],
     "prompt_number": 77
    },
    {
     "cell_type": "markdown",
     "metadata": {},
     "source": [
      "Want to make that tab separated instead? No problem."
     ]
    },
    {
     "cell_type": "code",
     "collapsed": true,
     "input": [
      "data.to_csv(\"data/weather-mod.tsv\", sep=\"\\t\")"
     ],
     "language": "python",
     "metadata": {},
     "outputs": [],
     "prompt_number": 78
    },
    {
     "cell_type": "markdown",
     "metadata": {},
     "source": [
      "There's also support for [reading and writing Excel files](http://pandas.pydata.org/pandas-docs/stable/io.html#excel-files), if you need it."
     ]
    },
    {
     "cell_type": "markdown",
     "metadata": {},
     "source": [
      "## Miscellanea"
     ]
    },
    {
     "cell_type": "markdown",
     "metadata": {},
     "source": [
      "We've only covered a small fraction of the pandas library here.\n",
      "Before I wrap up, however, there are a few miscellaneous tips I'd like to go over.\n",
      "\n",
      "First, it can be confusing to know when an operation will modify a DataFrame and when it will return a copy to you.\n",
      "Pandas behavior here is entirely dictated by NumPy, and some situations are unintuitive.\n",
      "\n",
      "For example, what do you think will happen here?"
     ]
    },
    {
     "cell_type": "code",
     "collapsed": false,
     "input": [
      "for idx, row in data.iterrows():\n",
      "    row[\"max_temp\"] = 0\n",
      "data.max_temp.head()"
     ],
     "language": "python",
     "metadata": {},
     "outputs": [
      {
       "output_type": "pyout",
       "prompt_number": 79,
       "text": [
        "date\n",
        "2012-03-10    56\n",
        "2012-03-11    67\n",
        "2012-03-12    71\n",
        "2012-03-13    76\n",
        "2012-03-14    80\n",
        "Freq: D, Name: max_temp"
       ]
      }
     ],
     "prompt_number": 79
    },
    {
     "cell_type": "markdown",
     "metadata": {},
     "source": [
      "Contrary to what you might expect, modifying `row` did **not** modify `data`!\n",
      "This is because `row` is a copy, and does not point back to the original DataFrame.\n",
      "\n",
      "Here's the right way to do it:"
     ]
    },
    {
     "cell_type": "code",
     "collapsed": false,
     "input": [
      "for idx, row in data.iterrows():\n",
      "    data.ix[idx, \"max_temp\"] = 0\n",
      "any(data.max_temp != 0)  # Any rows with max_temp not equal to zero?"
     ],
     "language": "python",
     "metadata": {},
     "outputs": [
      {
       "output_type": "pyout",
       "prompt_number": 80,
       "text": [
        "False"
       ]
      }
     ],
     "prompt_number": 80
    },
    {
     "cell_type": "markdown",
     "metadata": {},
     "source": [
      "Just to make you even more confused, this also **doesn't** work:"
     ]
    },
    {
     "cell_type": "code",
     "collapsed": false,
     "input": [
      "for idx, row in data.iterrows():\n",
      "    data.ix[idx][\"max_temp\"] = 100\n",
      "data.max_temp.head()"
     ],
     "language": "python",
     "metadata": {},
     "outputs": [
      {
       "output_type": "pyout",
       "prompt_number": 81,
       "text": [
        "date\n",
        "2012-03-10    0\n",
        "2012-03-11    0\n",
        "2012-03-12    0\n",
        "2012-03-13    0\n",
        "2012-03-14    0\n",
        "Freq: D, Name: max_temp"
       ]
      }
     ],
     "prompt_number": 81
    },
    {
     "cell_type": "markdown",
     "metadata": {},
     "source": [
      "When using `apply()`, the default behavior is to go over columns."
     ]
    },
    {
     "cell_type": "code",
     "collapsed": false,
     "input": [
      "data.apply(lambda c: c.name)"
     ],
     "language": "python",
     "metadata": {},
     "outputs": [
      {
       "output_type": "pyout",
       "prompt_number": 82,
       "text": [
        "max_temp                  max_temp\n",
        "mean_temp                mean_temp\n",
        "min_temp                  min_temp\n",
        "max_dew                    max_dew\n",
        "mean_dew                  mean_dew\n",
        "min_dew                    min_dew\n",
        "max_humidity          max_humidity\n",
        "mean_humidity        mean_humidity\n",
        "min_humidity          min_humidity\n",
        "max_pressure          max_pressure\n",
        "mean_pressure        mean_pressure\n",
        "min_pressure          min_pressure\n",
        "max_visibilty        max_visibilty\n",
        "mean_visibility    mean_visibility\n",
        "min_visibility      min_visibility\n",
        "max_wind                  max_wind\n",
        "mean_wind                mean_wind\n",
        "min_wind                  min_wind\n",
        "precipitation        precipitation\n",
        "cloud_cover            cloud_cover\n",
        "events                      events\n",
        "wind_dir                  wind_dir\n",
        "rain                          rain\n",
        "thunderstorm          thunderstorm\n",
        "fog                            fog\n",
        "snow                          snow"
       ]
      }
     ],
     "prompt_number": 82
    },
    {
     "cell_type": "markdown",
     "metadata": {},
     "source": [
      "You can make `apply()` go over rows by passing `axis=1`"
     ]
    },
    {
     "cell_type": "code",
     "collapsed": false,
     "input": [
      "data.apply(lambda r: r[\"max_pressure\"] - r[\"min_pressure\"], axis=1)"
     ],
     "language": "python",
     "metadata": {},
     "outputs": [
      {
       "output_type": "pyout",
       "prompt_number": 83,
       "text": [
        "date\n",
        "2012-03-10    0.19\n",
        "2012-03-11    0.24\n",
        "2012-03-12    0.25\n",
        "2012-03-13    0.15\n",
        "2012-03-14    0.11\n",
        "2012-03-15    0.11\n",
        "2012-03-16    0.07\n",
        "2012-03-17    0.11\n",
        "2012-03-18    0.12\n",
        "2012-03-19    0.11\n",
        "2012-03-20    0.10\n",
        "2012-03-21    0.12\n",
        "2012-03-22    0.10\n",
        "2012-03-23    0.27\n",
        "2012-03-24    0.09\n",
        "...\n",
        "2013-02-24    0.15\n",
        "2013-02-25    0.33\n",
        "2013-02-26    0.40\n",
        "2013-02-27    0.23\n",
        "2013-02-28    0.28\n",
        "2013-03-01    0.11\n",
        "2013-03-02    0.11\n",
        "2013-03-03    0.08\n",
        "2013-03-04    0.20\n",
        "2013-03-05    0.26\n",
        "2013-03-06    0.53\n",
        "2013-03-07    0.13\n",
        "2013-03-08    0.13\n",
        "2013-03-09    0.36\n",
        "2013-03-10    0.05\n",
        "Length: 366"
       ]
      }
     ],
     "prompt_number": 83
    },
    {
     "cell_type": "markdown",
     "metadata": {},
     "source": [
      "When you call `drop()`, though, it's flipped. To drop a column, you need to pass `axis=1`"
     ]
    },
    {
     "cell_type": "code",
     "collapsed": false,
     "input": [
      "data.drop(\"events\", axis=1).columns"
     ],
     "language": "python",
     "metadata": {},
     "outputs": [
      {
       "output_type": "pyout",
       "prompt_number": 84,
       "text": [
        "Index([max_temp, mean_temp, min_temp, max_dew, mean_dew, min_dew,\n",
        "       max_humidity, mean_humidity, min_humidity, max_pressure,\n",
        "       mean_pressure, min_pressure, max_visibilty, mean_visibility,\n",
        "       min_visibility, max_wind, mean_wind, min_wind, precipitation,\n",
        "       cloud_cover, wind_dir, rain, thunderstorm, fog, snow], dtype=object)"
       ]
      }
     ],
     "prompt_number": 84
    }
   ],
   "metadata": {}
  }
 ]
}